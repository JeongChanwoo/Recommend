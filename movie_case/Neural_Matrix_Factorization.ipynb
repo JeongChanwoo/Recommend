{
 "cells": [
  {
   "cell_type": "code",
   "execution_count": 1,
   "metadata": {
    "collapsed": true
   },
   "outputs": [],
   "source": [
    "import pandas as pd\n",
    "import numpy as np\n",
    "import matplotlib.pyplot as plt\n",
    "%matplotlib inline"
   ]
  },
  {
   "cell_type": "code",
   "execution_count": 2,
   "metadata": {
    "collapsed": true
   },
   "outputs": [],
   "source": [
    "dataset = pd.read_csv(\"./data/the-movies-dataset/ratings_small.csv\")# 100k small data set"
   ]
  },
  {
   "cell_type": "code",
   "execution_count": 3,
   "metadata": {},
   "outputs": [
    {
     "data": {
      "text/html": [
       "<div>\n",
       "<style>\n",
       "    .dataframe thead tr:only-child th {\n",
       "        text-align: right;\n",
       "    }\n",
       "\n",
       "    .dataframe thead th {\n",
       "        text-align: left;\n",
       "    }\n",
       "\n",
       "    .dataframe tbody tr th {\n",
       "        vertical-align: top;\n",
       "    }\n",
       "</style>\n",
       "<table border=\"1\" class=\"dataframe\">\n",
       "  <thead>\n",
       "    <tr style=\"text-align: right;\">\n",
       "      <th></th>\n",
       "      <th>userId</th>\n",
       "      <th>movieId</th>\n",
       "      <th>rating</th>\n",
       "      <th>timestamp</th>\n",
       "    </tr>\n",
       "  </thead>\n",
       "  <tbody>\n",
       "    <tr>\n",
       "      <th>0</th>\n",
       "      <td>1</td>\n",
       "      <td>31</td>\n",
       "      <td>2.5</td>\n",
       "      <td>1260759144</td>\n",
       "    </tr>\n",
       "    <tr>\n",
       "      <th>1</th>\n",
       "      <td>1</td>\n",
       "      <td>1029</td>\n",
       "      <td>3.0</td>\n",
       "      <td>1260759179</td>\n",
       "    </tr>\n",
       "    <tr>\n",
       "      <th>2</th>\n",
       "      <td>1</td>\n",
       "      <td>1061</td>\n",
       "      <td>3.0</td>\n",
       "      <td>1260759182</td>\n",
       "    </tr>\n",
       "    <tr>\n",
       "      <th>3</th>\n",
       "      <td>1</td>\n",
       "      <td>1129</td>\n",
       "      <td>2.0</td>\n",
       "      <td>1260759185</td>\n",
       "    </tr>\n",
       "    <tr>\n",
       "      <th>4</th>\n",
       "      <td>1</td>\n",
       "      <td>1172</td>\n",
       "      <td>4.0</td>\n",
       "      <td>1260759205</td>\n",
       "    </tr>\n",
       "  </tbody>\n",
       "</table>\n",
       "</div>"
      ],
      "text/plain": [
       "   userId  movieId  rating   timestamp\n",
       "0       1       31     2.5  1260759144\n",
       "1       1     1029     3.0  1260759179\n",
       "2       1     1061     3.0  1260759182\n",
       "3       1     1129     2.0  1260759185\n",
       "4       1     1172     4.0  1260759205"
      ]
     },
     "execution_count": 3,
     "metadata": {},
     "output_type": "execute_result"
    }
   ],
   "source": [
    "dataset.head()"
   ]
  },
  {
   "cell_type": "code",
   "execution_count": 4,
   "metadata": {},
   "outputs": [
    {
     "data": {
      "text/plain": [
       "(671, 9066)"
      ]
     },
     "execution_count": 4,
     "metadata": {},
     "output_type": "execute_result"
    }
   ],
   "source": [
    "len(dataset.userId.unique()), len(dataset.movieId.unique())"
   ]
  },
  {
   "cell_type": "code",
   "execution_count": 5,
   "metadata": {},
   "outputs": [
    {
     "name": "stdout",
     "output_type": "stream",
     "text": [
      "<class 'pandas.core.frame.DataFrame'>\n",
      "RangeIndex: 100004 entries, 0 to 100003\n",
      "Data columns (total 4 columns):\n",
      "userId       100004 non-null int64\n",
      "movieId      100004 non-null int64\n",
      "rating       100004 non-null float64\n",
      "timestamp    100004 non-null int64\n",
      "dtypes: float64(1), int64(3)\n",
      "memory usage: 3.1 MB\n"
     ]
    }
   ],
   "source": [
    "dataset.info()"
   ]
  },
  {
   "cell_type": "code",
   "execution_count": 6,
   "metadata": {
    "collapsed": true
   },
   "outputs": [],
   "source": [
    "### trainform data type int to object ( userId, movieId)\n",
    "dataset.userId = dataset.userId.astype('category')\n",
    "dataset.movieId = dataset.movieId.astype('category')"
   ]
  },
  {
   "cell_type": "code",
   "execution_count": 7,
   "metadata": {},
   "outputs": [
    {
     "name": "stdout",
     "output_type": "stream",
     "text": [
      "<class 'pandas.core.frame.DataFrame'>\n",
      "RangeIndex: 100004 entries, 0 to 100003\n",
      "Data columns (total 4 columns):\n",
      "userId       100004 non-null category\n",
      "movieId      100004 non-null category\n",
      "rating       100004 non-null float64\n",
      "timestamp    100004 non-null int64\n",
      "dtypes: category(2), float64(1), int64(1)\n",
      "memory usage: 2.3 MB\n"
     ]
    }
   ],
   "source": [
    "dataset.info()"
   ]
  },
  {
   "cell_type": "markdown",
   "metadata": {},
   "source": [
    "## Model creation"
   ]
  },
  {
   "cell_type": "code",
   "execution_count": 8,
   "metadata": {
    "collapsed": true
   },
   "outputs": [],
   "source": [
    "import tensorflow as tf"
   ]
  },
  {
   "cell_type": "code",
   "execution_count": 9,
   "metadata": {
    "collapsed": true
   },
   "outputs": [],
   "source": [
    "n_latent_factor_user = 8\n",
    "n_latent_factor_moive = 10\n",
    "n_latent_factor_mf = 3\n",
    "n_users, n_movies = len(dataset.userId.unique()), len(dataset.movieId.unique())"
   ]
  },
  {
   "cell_type": "code",
   "execution_count": 10,
   "metadata": {},
   "outputs": [
    {
     "data": {
      "text/plain": [
       "[31, 1029, 1061, 1129, 1172, ..., 64997, 72380, 129, 4736, 6425]\n",
       "Length: 9066\n",
       "Categories (9066, int64): [31, 1029, 1061, 1129, ..., 72380, 129, 4736, 6425]"
      ]
     },
     "execution_count": 10,
     "metadata": {},
     "output_type": "execute_result"
    }
   ],
   "source": [
    "dataset.movieId.unique()"
   ]
  },
  {
   "cell_type": "code",
   "execution_count": 11,
   "metadata": {
    "collapsed": true
   },
   "outputs": [],
   "source": [
    "# movie_feature_column  = tf.feature_column.categorical_column_with_vocabulary_list(key='terms', vocabulary_list=dataset.movieId.unique())\n",
    "from tensorflow import keras"
   ]
  },
  {
   "cell_type": "code",
   "execution_count": 12,
   "metadata": {
    "collapsed": true
   },
   "outputs": [],
   "source": [
    "movie_input = keras.layers.Input(shape = [1], name = 'Movie')\n",
    "movie_embedding_mlp = keras.layers.Embedding(n_movies +1 , n_latent_factor_moive, name = 'Movie_embedding_MLP')(movie_input)\n",
    "movie_vec_mlp = keras.layers.Flatten(name = 'FlattenMovies_MLP')(movie_embedding_mlp)\n",
    "movie_vec_mlp = keras.layers.Dropout(0.2)(movie_vec_mlp)\n",
    "\n",
    "movie_embedding_mf = keras.layers.Embedding(n_movies+1 , n_latent_factor_mf, name = 'Movie_embedding_MF')(movie_input)\n",
    "movie_vec_mf = keras.layers.Flatten(name='FlattenMovies_MF')(movie_embedding_mf)\n",
    "movie_vec_mf = keras.layers.Dropout(0.2)(movie_vec_mf)\n",
    "\n",
    "user_input = keras.layers.Input(shape=[1],name='User')\n",
    "user_embedding_mlp = keras.layers.Embedding(n_users +1 , n_latent_factor_user, name = 'Users_embedding_MLP')(user_input)\n",
    "user_vec_mlp = keras.layers.Flatten(name = 'FlattenUser_MLP')(user_embedding_mlp)\n",
    "user_vec_mlp = keras.layers.Dropout(0.2)(user_vec_mlp)\n",
    "\n",
    "user_embedding_mf = keras.layers.Embedding(n_users +1 , n_latent_factor_mf, name = 'Users_embedding_MF')(user_input)\n",
    "user_vec_mf = keras.layers.Flatten(name = 'FlattenUser_MF')(user_embedding_mf)\n",
    "user_vec_mf = keras.layers.Dropout(0.2)(user_vec_mf)\n",
    "\n",
    "\n",
    "concat = keras.layers.concatenate([movie_vec_mlp, user_vec_mlp])\n",
    "concat_dropout = keras.layers.Dropout(0.2)(concat)\n",
    "dense_1 = keras.layers.Dense(200, name ='FullyConnected_1')(concat_dropout)\n",
    "dense_batch_1 = keras.layers.BatchNormalization(name='Batch')(dense_1)\n",
    "dropout_1 = keras.layers.Dropout(0.2, name ='Dropout_1')(dense_batch_1)\n",
    "dense_2 = keras.layers.Dense(100, name = 'FullyConnected_2')(dropout_1)\n",
    "dense_batch_2 = keras.layers.BatchNormalization(name = 'Batch_2')(dense_2)\n",
    "\n",
    "dropout_2 = keras.layers.Dropout(0.2, name='Dropout_2')(dense_batch_2)\n",
    "dense_3 = keras.layers.Dense(50, name = 'FullyConnected_3')(dropout_2)\n",
    "dense_4 = keras.layers.Dense(20, name = 'FullyConnected_4', activation='relu')(dense_3)"
   ]
  },
  {
   "cell_type": "code",
   "execution_count": 13,
   "metadata": {},
   "outputs": [
    {
     "data": {
      "text/plain": [
       "(TensorShape([Dimension(None), Dimension(10)]),\n",
       " TensorShape([Dimension(None), Dimension(8)]))"
      ]
     },
     "execution_count": 13,
     "metadata": {},
     "output_type": "execute_result"
    }
   ],
   "source": [
    "(movie_vec_mlp.shape , user_vec_mlp.shape)"
   ]
  },
  {
   "cell_type": "code",
   "execution_count": 14,
   "metadata": {},
   "outputs": [
    {
     "data": {
      "text/plain": [
       "TensorShape([Dimension(None), Dimension(18)])"
      ]
     },
     "execution_count": 14,
     "metadata": {},
     "output_type": "execute_result"
    }
   ],
   "source": [
    "concat.shape"
   ]
  },
  {
   "cell_type": "code",
   "execution_count": 15,
   "metadata": {},
   "outputs": [
    {
     "data": {
      "text/plain": [
       "(TensorShape([Dimension(None), Dimension(3)]),\n",
       " TensorShape([Dimension(None), Dimension(3)]))"
      ]
     },
     "execution_count": 15,
     "metadata": {},
     "output_type": "execute_result"
    }
   ],
   "source": [
    "(user_vec_mf.shape, movie_vec_mf.shape)"
   ]
  },
  {
   "cell_type": "code",
   "execution_count": 16,
   "metadata": {},
   "outputs": [
    {
     "data": {
      "text/plain": [
       "<tf.Tensor 'dropout_1/cond/Merge:0' shape=(?, 3) dtype=float32>"
      ]
     },
     "execution_count": 16,
     "metadata": {},
     "output_type": "execute_result"
    }
   ],
   "source": [
    "movie_vec_mf"
   ]
  },
  {
   "cell_type": "code",
   "execution_count": 17,
   "metadata": {},
   "outputs": [
    {
     "data": {
      "text/plain": [
       "<tf.Tensor 'dropout_3/cond/Merge:0' shape=(?, 3) dtype=float32>"
      ]
     },
     "execution_count": 17,
     "metadata": {},
     "output_type": "execute_result"
    }
   ],
   "source": [
    "user_vec_mf"
   ]
  },
  {
   "cell_type": "code",
   "execution_count": 18,
   "metadata": {
    "collapsed": true
   },
   "outputs": [],
   "source": [
    "# movie_vec_mf = keras.backend.transpose(movie_vec_mf) # movie_vec_mf shape=(?, 3) to (3,?)"
   ]
  },
  {
   "cell_type": "code",
   "execution_count": 19,
   "metadata": {},
   "outputs": [
    {
     "data": {
      "text/plain": [
       "<tf.Tensor 'dropout_1/cond/Merge:0' shape=(?, 3) dtype=float32>"
      ]
     },
     "execution_count": 19,
     "metadata": {},
     "output_type": "execute_result"
    }
   ],
   "source": [
    "movie_vec_mf"
   ]
  },
  {
   "cell_type": "code",
   "execution_count": 20,
   "metadata": {
    "collapsed": true
   },
   "outputs": [],
   "source": [
    "pred_mf = keras.layers.multiply([movie_vec_mf, user_vec_mf], name = 'Elemet_wise_product')\n",
    "pred_mlp = keras.layers.Dense(1, activation='relu', name = 'Activation_pred')(dense_4)"
   ]
  },
  {
   "cell_type": "code",
   "execution_count": 21,
   "metadata": {},
   "outputs": [
    {
     "data": {
      "text/plain": [
       "(<tf.Tensor 'Elemet_wise_product/mul:0' shape=(?, 3) dtype=float32>,\n",
       " <tf.Tensor 'Activation_pred/Relu:0' shape=(?, 1) dtype=float32>)"
      ]
     },
     "execution_count": 21,
     "metadata": {},
     "output_type": "execute_result"
    }
   ],
   "source": [
    "(pred_mf, pred_mlp)"
   ]
  },
  {
   "cell_type": "code",
   "execution_count": 22,
   "metadata": {
    "collapsed": true
   },
   "outputs": [],
   "source": [
    "combine_mlp_mf = keras.layers.concatenate([pred_mf,pred_mlp],name = 'Concat_MF_MLP')\n",
    "result_combine = keras.layers.Dense(100, name='Combine_MF_MLP')(combine_mlp_mf)\n",
    "\n",
    "result = keras.layers.Dense(1, name='Prediction')(result_combine)\n",
    "\n",
    "model = keras.Model([user_input, movie_input], result)\n",
    "opt = keras.optimizers.Adam(lr = 0.01)\n",
    "model.compile(optimizer = 'adam', loss = 'mean_absolute_error')"
   ]
  },
  {
   "cell_type": "code",
   "execution_count": 23,
   "metadata": {
    "collapsed": true
   },
   "outputs": [],
   "source": [
    "from IPython.display import SVG\n",
    "\n",
    "from tensorflow.keras.utils import plot_model"
   ]
  },
  {
   "cell_type": "code",
   "execution_count": 28,
   "metadata": {
    "scrolled": true
   },
   "outputs": [
    {
     "data": {
      "text/plain": [
       "<IPython.core.display.SVG object>"
      ]
     },
     "execution_count": 28,
     "metadata": {},
     "output_type": "execute_result"
    }
   ],
   "source": [
    "SVG(plot_model(model, show_shapes=False,to_file='test_model', show_layer_names=True, rankdir='TB')) \n",
    "# SVG(plot_model(model, show_shapes=False,to_file='test_model', show_layer_names=True, rankdir='TB').create(prog='dot',format='svg'))"
   ]
  },
  {
   "cell_type": "code",
   "execution_count": 29,
   "metadata": {},
   "outputs": [
    {
     "name": "stdout",
     "output_type": "stream",
     "text": [
      "__________________________________________________________________________________________________\n",
      "Layer (type)                    Output Shape         Param #     Connected to                     \n",
      "==================================================================================================\n",
      "Movie (InputLayer)              (None, 1)            0                                            \n",
      "__________________________________________________________________________________________________\n",
      "User (InputLayer)               (None, 1)            0                                            \n",
      "__________________________________________________________________________________________________\n",
      "Movie_embedding_MLP (Embedding) (None, 1, 10)        90670       Movie[0][0]                      \n",
      "__________________________________________________________________________________________________\n",
      "Users_embedding_MLP (Embedding) (None, 1, 8)         5376        User[0][0]                       \n",
      "__________________________________________________________________________________________________\n",
      "FlattenMovies_MLP (Flatten)     (None, 10)           0           Movie_embedding_MLP[0][0]        \n",
      "__________________________________________________________________________________________________\n",
      "FlattenUser_MLP (Flatten)       (None, 8)            0           Users_embedding_MLP[0][0]        \n",
      "__________________________________________________________________________________________________\n",
      "dropout (Dropout)               (None, 10)           0           FlattenMovies_MLP[0][0]          \n",
      "__________________________________________________________________________________________________\n",
      "dropout_2 (Dropout)             (None, 8)            0           FlattenUser_MLP[0][0]            \n",
      "__________________________________________________________________________________________________\n",
      "concatenate (Concatenate)       (None, 18)           0           dropout[0][0]                    \n",
      "                                                                 dropout_2[0][0]                  \n",
      "__________________________________________________________________________________________________\n",
      "dropout_4 (Dropout)             (None, 18)           0           concatenate[0][0]                \n",
      "__________________________________________________________________________________________________\n",
      "FullyConnected_1 (Dense)        (None, 200)          3800        dropout_4[0][0]                  \n",
      "__________________________________________________________________________________________________\n",
      "Batch (BatchNormalization)      (None, 200)          800         FullyConnected_1[0][0]           \n",
      "__________________________________________________________________________________________________\n",
      "Dropout_1 (Dropout)             (None, 200)          0           Batch[0][0]                      \n",
      "__________________________________________________________________________________________________\n",
      "FullyConnected_2 (Dense)        (None, 100)          20100       Dropout_1[0][0]                  \n",
      "__________________________________________________________________________________________________\n",
      "Batch_2 (BatchNormalization)    (None, 100)          400         FullyConnected_2[0][0]           \n",
      "__________________________________________________________________________________________________\n",
      "Movie_embedding_MF (Embedding)  (None, 1, 3)         27201       Movie[0][0]                      \n",
      "__________________________________________________________________________________________________\n",
      "Users_embedding_MF (Embedding)  (None, 1, 3)         2016        User[0][0]                       \n",
      "__________________________________________________________________________________________________\n",
      "Dropout_2 (Dropout)             (None, 100)          0           Batch_2[0][0]                    \n",
      "__________________________________________________________________________________________________\n",
      "FlattenMovies_MF (Flatten)      (None, 3)            0           Movie_embedding_MF[0][0]         \n",
      "__________________________________________________________________________________________________\n",
      "FlattenUser_MF (Flatten)        (None, 3)            0           Users_embedding_MF[0][0]         \n",
      "__________________________________________________________________________________________________\n",
      "FullyConnected_3 (Dense)        (None, 50)           5050        Dropout_2[0][0]                  \n",
      "__________________________________________________________________________________________________\n",
      "dropout_1 (Dropout)             (None, 3)            0           FlattenMovies_MF[0][0]           \n",
      "__________________________________________________________________________________________________\n",
      "dropout_3 (Dropout)             (None, 3)            0           FlattenUser_MF[0][0]             \n",
      "__________________________________________________________________________________________________\n",
      "FullyConnected_4 (Dense)        (None, 20)           1020        FullyConnected_3[0][0]           \n",
      "__________________________________________________________________________________________________\n",
      "Elemet_wise_product (Multiply)  (None, 3)            0           dropout_1[0][0]                  \n",
      "                                                                 dropout_3[0][0]                  \n",
      "__________________________________________________________________________________________________\n",
      "Activation_pred (Dense)         (None, 1)            21          FullyConnected_4[0][0]           \n",
      "__________________________________________________________________________________________________\n",
      "Concat_MF_MLP (Concatenate)     (None, 4)            0           Elemet_wise_product[0][0]        \n",
      "                                                                 Activation_pred[0][0]            \n",
      "__________________________________________________________________________________________________\n",
      "Combine_MF_MLP (Dense)          (None, 100)          500         Concat_MF_MLP[0][0]              \n",
      "__________________________________________________________________________________________________\n",
      "Prediction (Dense)              (None, 1)            101         Combine_MF_MLP[0][0]             \n",
      "==================================================================================================\n",
      "Total params: 157,055\n",
      "Trainable params: 156,455\n",
      "Non-trainable params: 600\n",
      "__________________________________________________________________________________________________\n"
     ]
    }
   ],
   "source": [
    "model.summary()"
   ]
  },
  {
   "cell_type": "code",
   "execution_count": null,
   "metadata": {
    "collapsed": true
   },
   "outputs": [],
   "source": []
  }
 ],
 "metadata": {
  "kernelspec": {
   "display_name": "Python 3",
   "language": "python",
   "name": "python3"
  },
  "language_info": {
   "codemirror_mode": {
    "name": "ipython",
    "version": 3
   },
   "file_extension": ".py",
   "mimetype": "text/x-python",
   "name": "python",
   "nbconvert_exporter": "python",
   "pygments_lexer": "ipython3",
   "version": "3.5.0"
  }
 },
 "nbformat": 4,
 "nbformat_minor": 2
}
