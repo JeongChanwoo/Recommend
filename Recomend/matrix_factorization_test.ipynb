{
 "cells": [
  {
   "cell_type": "code",
   "execution_count": 1,
   "metadata": {},
   "outputs": [],
   "source": [
    "import numpy as np"
   ]
  },
  {
   "cell_type": "code",
   "execution_count": 2,
   "metadata": {},
   "outputs": [],
   "source": [
    "def matrix_factorization(R,P,Q,K, step = 50000, alpha = 0.0002, beta = 0.02):\n",
    "    Q = Q.T\n",
    "    for step in range(step): # train iteration\n",
    "        for i in range(len(R)): #user iteration\n",
    "            for j in range(len(R[i])): #item iteration\n",
    "                \n",
    "                if R[i][j] > 0:\n",
    "                    initial_rating = np.dot(P[i, :],Q[:, j]) # rating hat\n",
    "                    error_ij = R[i][j] - initial_rating # error between rating target and rating hat\n",
    "                    \n",
    "                    for k in range(K):\n",
    "                        P[i][k] = P[i][k] + alpha*(2*error_ij * Q[k][j] - beta * P[i][k])\n",
    "                        Q[k][j] = Q[k][j] + alpha*(2*error_ij * P[i][k] - beta * Q[k][j])\n",
    "                        \n",
    "        eR = np.dot(P,Q)\n",
    "        e = 0\n",
    "        for i in range(len(R)):\n",
    "            for j in range(len(R[i])):\n",
    "                if R[i][j] > 0 :\n",
    "                    e = e + pow(R[i][j] - np.dot(P[i,:], Q[:, j]), 2)\n",
    "                    for k in range(K):\n",
    "                        e = e + (beta/2) * (pow(P[i][k],2) + pow(Q[k][j],2))\n",
    "        \n",
    "        if e < 0.001:\n",
    "            break\n",
    "\n",
    "    return P, Q.T\n",
    "                    "
   ]
  },
  {
   "cell_type": "code",
   "execution_count": 3,
   "metadata": {},
   "outputs": [],
   "source": [
    "R = [[5,3,0,1] ,[4,0,0,1],[1,1,0,5],[1,0,0,4],[0,1,5,4]]\n",
    "\n",
    "R = np.array(R)\n",
    "\n",
    "N = len(R) #user length\n",
    "M = len(R[0]) #item length\n",
    "K = 2 #latent space size\n",
    "\n",
    "P = np.random.rand(N, K ) #user embeding \n",
    "Q = np.random.rand(M,K) # item embeding\n",
    "\n",
    "embeding_user, embeding_item = matrix_factorization(R,P,Q,K)"
   ]
  },
  {
   "cell_type": "code",
   "execution_count": 4,
   "metadata": {},
   "outputs": [],
   "source": [
    "nR = np.dot(embeding_user, embeding_item.T)"
   ]
  },
  {
   "cell_type": "code",
   "execution_count": 5,
   "metadata": {},
   "outputs": [
    {
     "data": {
      "text/plain": [
       "array([[4.97690829, 2.98336175, 3.41150399, 1.00203523],\n",
       "       [3.98246897, 2.40354249, 2.9507909 , 1.00016885],\n",
       "       [1.00300206, 0.99278553, 5.99864584, 4.97001163],\n",
       "       [0.99870306, 0.90929657, 4.89816727, 3.98383468],\n",
       "       [1.16441517, 1.00661753, 4.98444341, 3.99267748]])"
      ]
     },
     "execution_count": 5,
     "metadata": {},
     "output_type": "execute_result"
    }
   ],
   "source": [
    "nR"
   ]
  },
  {
   "cell_type": "code",
   "execution_count": 6,
   "metadata": {},
   "outputs": [
    {
     "data": {
      "text/plain": [
       "array([[5, 3, 0, 1],\n",
       "       [4, 0, 0, 1],\n",
       "       [1, 1, 0, 5],\n",
       "       [1, 0, 0, 4],\n",
       "       [0, 1, 5, 4]])"
      ]
     },
     "execution_count": 6,
     "metadata": {},
     "output_type": "execute_result"
    }
   ],
   "source": [
    "R"
   ]
  },
  {
   "cell_type": "code",
   "execution_count": null,
   "metadata": {},
   "outputs": [],
   "source": []
  }
 ],
 "metadata": {
  "kernelspec": {
   "display_name": "Python 3",
   "language": "python",
   "name": "python3"
  },
  "language_info": {
   "codemirror_mode": {
    "name": "ipython",
    "version": 3
   },
   "file_extension": ".py",
   "mimetype": "text/x-python",
   "name": "python",
   "nbconvert_exporter": "python",
   "pygments_lexer": "ipython3",
   "version": "3.5.5"
  }
 },
 "nbformat": 4,
 "nbformat_minor": 2
}
